{
  "nbformat": 4,
  "nbformat_minor": 0,
  "metadata": {
    "colab": {
      "name": "4_Operaciones_con_tablas.ipynb",
      "provenance": [],
      "collapsed_sections": []
    },
    "kernelspec": {
      "name": "python3",
      "display_name": "Python 3"
    },
    "language_info": {
      "name": "python"
    }
  },
  "cells": [
    {
      "cell_type": "markdown",
      "metadata": {
        "id": "63LFikMNhRIZ"
      },
      "source": [
        "# **Operaciones con tablas**"
      ]
    },
    {
      "cell_type": "code",
      "metadata": {
        "id": "7fncQcz3f8rF",
        "colab": {
          "base_uri": "https://localhost:8080/"
        },
        "outputId": "5d52f2bb-bc76-4200-f875-57c04de25efb"
      },
      "source": [
        "# importar datos\n",
        "from google.colab import drive\n",
        "drive.mount('/content/drive')"
      ],
      "execution_count": null,
      "outputs": [
        {
          "output_type": "stream",
          "text": [
            "Mounted at /content/drive\n"
          ],
          "name": "stdout"
        }
      ]
    },
    {
      "cell_type": "code",
      "metadata": {
        "id": "IZylBV_boD0u"
      },
      "source": [
        "# importar paquetes\n",
        "import pandas as pd\n",
        "import numpy as np"
      ],
      "execution_count": null,
      "outputs": []
    },
    {
      "cell_type": "code",
      "metadata": {
        "colab": {
          "base_uri": "https://localhost:8080/",
          "height": 142
        },
        "id": "iCnEr_J9n4mm",
        "outputId": "a40fffdd-a572-423e-8177-eeeb9859818f"
      },
      "source": [
        "# leer base\n",
        "# Ingresar a Google Dataset: https://datasetsearch.research.google.com, escribir stars y entrar a Kaggle\n",
        "df = pd.read_csv('/content/drive/MyDrive/Curso/6 class.csv', sep = \",\")\n",
        "df.head(3)"
      ],
      "execution_count": null,
      "outputs": [
        {
          "output_type": "execute_result",
          "data": {
            "text/html": [
              "<div>\n",
              "<style scoped>\n",
              "    .dataframe tbody tr th:only-of-type {\n",
              "        vertical-align: middle;\n",
              "    }\n",
              "\n",
              "    .dataframe tbody tr th {\n",
              "        vertical-align: top;\n",
              "    }\n",
              "\n",
              "    .dataframe thead th {\n",
              "        text-align: right;\n",
              "    }\n",
              "</style>\n",
              "<table border=\"1\" class=\"dataframe\">\n",
              "  <thead>\n",
              "    <tr style=\"text-align: right;\">\n",
              "      <th></th>\n",
              "      <th>Temperature (K)</th>\n",
              "      <th>Luminosity(L/Lo)</th>\n",
              "      <th>Radius(R/Ro)</th>\n",
              "      <th>Absolute magnitude(Mv)</th>\n",
              "      <th>Star type</th>\n",
              "      <th>Star color</th>\n",
              "      <th>Spectral Class</th>\n",
              "    </tr>\n",
              "  </thead>\n",
              "  <tbody>\n",
              "    <tr>\n",
              "      <th>0</th>\n",
              "      <td>3068</td>\n",
              "      <td>0.0024</td>\n",
              "      <td>0.1700</td>\n",
              "      <td>16.12</td>\n",
              "      <td>0</td>\n",
              "      <td>Red</td>\n",
              "      <td>M</td>\n",
              "    </tr>\n",
              "    <tr>\n",
              "      <th>1</th>\n",
              "      <td>3042</td>\n",
              "      <td>0.0005</td>\n",
              "      <td>0.1542</td>\n",
              "      <td>16.60</td>\n",
              "      <td>0</td>\n",
              "      <td>Red</td>\n",
              "      <td>M</td>\n",
              "    </tr>\n",
              "    <tr>\n",
              "      <th>2</th>\n",
              "      <td>2600</td>\n",
              "      <td>0.0003</td>\n",
              "      <td>0.1020</td>\n",
              "      <td>18.70</td>\n",
              "      <td>0</td>\n",
              "      <td>Red</td>\n",
              "      <td>M</td>\n",
              "    </tr>\n",
              "  </tbody>\n",
              "</table>\n",
              "</div>"
            ],
            "text/plain": [
              "   Temperature (K)  Luminosity(L/Lo)  ...  Star color  Spectral Class\n",
              "0             3068            0.0024  ...         Red               M\n",
              "1             3042            0.0005  ...         Red               M\n",
              "2             2600            0.0003  ...         Red               M\n",
              "\n",
              "[3 rows x 7 columns]"
            ]
          },
          "metadata": {
            "tags": []
          },
          "execution_count": 3
        }
      ]
    },
    {
      "cell_type": "markdown",
      "metadata": {
        "id": "QKO1-ff6oKIB"
      },
      "source": [
        "**Operaciones Simples**"
      ]
    },
    {
      "cell_type": "code",
      "metadata": {
        "colab": {
          "base_uri": "https://localhost:8080/",
          "height": 142
        },
        "id": "w_zit339oAXJ",
        "outputId": "f71d1047-f762-4f5c-d9e0-c3a7de7d7830"
      },
      "source": [
        "# df.iloc\n",
        "df2 = df.iloc[:,:-3]\n",
        "df2.head(3)"
      ],
      "execution_count": null,
      "outputs": [
        {
          "output_type": "execute_result",
          "data": {
            "text/html": [
              "<div>\n",
              "<style scoped>\n",
              "    .dataframe tbody tr th:only-of-type {\n",
              "        vertical-align: middle;\n",
              "    }\n",
              "\n",
              "    .dataframe tbody tr th {\n",
              "        vertical-align: top;\n",
              "    }\n",
              "\n",
              "    .dataframe thead th {\n",
              "        text-align: right;\n",
              "    }\n",
              "</style>\n",
              "<table border=\"1\" class=\"dataframe\">\n",
              "  <thead>\n",
              "    <tr style=\"text-align: right;\">\n",
              "      <th></th>\n",
              "      <th>Temperature (K)</th>\n",
              "      <th>Luminosity(L/Lo)</th>\n",
              "      <th>Radius(R/Ro)</th>\n",
              "      <th>Absolute magnitude(Mv)</th>\n",
              "    </tr>\n",
              "  </thead>\n",
              "  <tbody>\n",
              "    <tr>\n",
              "      <th>0</th>\n",
              "      <td>3068</td>\n",
              "      <td>0.0024</td>\n",
              "      <td>0.1700</td>\n",
              "      <td>16.12</td>\n",
              "    </tr>\n",
              "    <tr>\n",
              "      <th>1</th>\n",
              "      <td>3042</td>\n",
              "      <td>0.0005</td>\n",
              "      <td>0.1542</td>\n",
              "      <td>16.60</td>\n",
              "    </tr>\n",
              "    <tr>\n",
              "      <th>2</th>\n",
              "      <td>2600</td>\n",
              "      <td>0.0003</td>\n",
              "      <td>0.1020</td>\n",
              "      <td>18.70</td>\n",
              "    </tr>\n",
              "  </tbody>\n",
              "</table>\n",
              "</div>"
            ],
            "text/plain": [
              "   Temperature (K)  Luminosity(L/Lo)  Radius(R/Ro)  Absolute magnitude(Mv)\n",
              "0             3068            0.0024        0.1700                   16.12\n",
              "1             3042            0.0005        0.1542                   16.60\n",
              "2             2600            0.0003        0.1020                   18.70"
            ]
          },
          "metadata": {
            "tags": []
          },
          "execution_count": 4
        }
      ]
    },
    {
      "cell_type": "code",
      "metadata": {
        "colab": {
          "base_uri": "https://localhost:8080/",
          "height": 419
        },
        "id": "Ym7sC2xRo6oC",
        "outputId": "0e9f9812-75fa-41f6-a465-ac5dcd0d5205"
      },
      "source": [
        "# suma general\n",
        "df2 + 150"
      ],
      "execution_count": null,
      "outputs": [
        {
          "output_type": "execute_result",
          "data": {
            "text/html": [
              "<div>\n",
              "<style scoped>\n",
              "    .dataframe tbody tr th:only-of-type {\n",
              "        vertical-align: middle;\n",
              "    }\n",
              "\n",
              "    .dataframe tbody tr th {\n",
              "        vertical-align: top;\n",
              "    }\n",
              "\n",
              "    .dataframe thead th {\n",
              "        text-align: right;\n",
              "    }\n",
              "</style>\n",
              "<table border=\"1\" class=\"dataframe\">\n",
              "  <thead>\n",
              "    <tr style=\"text-align: right;\">\n",
              "      <th></th>\n",
              "      <th>Temperature (K)</th>\n",
              "      <th>Luminosity(L/Lo)</th>\n",
              "      <th>Radius(R/Ro)</th>\n",
              "      <th>Absolute magnitude(Mv)</th>\n",
              "    </tr>\n",
              "  </thead>\n",
              "  <tbody>\n",
              "    <tr>\n",
              "      <th>0</th>\n",
              "      <td>3218</td>\n",
              "      <td>150.002400</td>\n",
              "      <td>150.1700</td>\n",
              "      <td>166.12</td>\n",
              "    </tr>\n",
              "    <tr>\n",
              "      <th>1</th>\n",
              "      <td>3192</td>\n",
              "      <td>150.000500</td>\n",
              "      <td>150.1542</td>\n",
              "      <td>166.60</td>\n",
              "    </tr>\n",
              "    <tr>\n",
              "      <th>2</th>\n",
              "      <td>2750</td>\n",
              "      <td>150.000300</td>\n",
              "      <td>150.1020</td>\n",
              "      <td>168.70</td>\n",
              "    </tr>\n",
              "    <tr>\n",
              "      <th>3</th>\n",
              "      <td>2950</td>\n",
              "      <td>150.000200</td>\n",
              "      <td>150.1600</td>\n",
              "      <td>166.65</td>\n",
              "    </tr>\n",
              "    <tr>\n",
              "      <th>4</th>\n",
              "      <td>2089</td>\n",
              "      <td>150.000138</td>\n",
              "      <td>150.1030</td>\n",
              "      <td>170.06</td>\n",
              "    </tr>\n",
              "    <tr>\n",
              "      <th>...</th>\n",
              "      <td>...</td>\n",
              "      <td>...</td>\n",
              "      <td>...</td>\n",
              "      <td>...</td>\n",
              "    </tr>\n",
              "    <tr>\n",
              "      <th>235</th>\n",
              "      <td>39090</td>\n",
              "      <td>374980.000000</td>\n",
              "      <td>1506.0000</td>\n",
              "      <td>140.07</td>\n",
              "    </tr>\n",
              "    <tr>\n",
              "      <th>236</th>\n",
              "      <td>30989</td>\n",
              "      <td>834192.000000</td>\n",
              "      <td>1344.0000</td>\n",
              "      <td>139.37</td>\n",
              "    </tr>\n",
              "    <tr>\n",
              "      <th>237</th>\n",
              "      <td>8979</td>\n",
              "      <td>537643.000000</td>\n",
              "      <td>1573.0000</td>\n",
              "      <td>139.27</td>\n",
              "    </tr>\n",
              "    <tr>\n",
              "      <th>238</th>\n",
              "      <td>9385</td>\n",
              "      <td>405090.000000</td>\n",
              "      <td>1262.0000</td>\n",
              "      <td>138.77</td>\n",
              "    </tr>\n",
              "    <tr>\n",
              "      <th>239</th>\n",
              "      <td>38032</td>\n",
              "      <td>295053.000000</td>\n",
              "      <td>1933.0000</td>\n",
              "      <td>142.20</td>\n",
              "    </tr>\n",
              "  </tbody>\n",
              "</table>\n",
              "<p>240 rows × 4 columns</p>\n",
              "</div>"
            ],
            "text/plain": [
              "     Temperature (K)  Luminosity(L/Lo)  Radius(R/Ro)  Absolute magnitude(Mv)\n",
              "0               3218        150.002400      150.1700                  166.12\n",
              "1               3192        150.000500      150.1542                  166.60\n",
              "2               2750        150.000300      150.1020                  168.70\n",
              "3               2950        150.000200      150.1600                  166.65\n",
              "4               2089        150.000138      150.1030                  170.06\n",
              "..               ...               ...           ...                     ...\n",
              "235            39090     374980.000000     1506.0000                  140.07\n",
              "236            30989     834192.000000     1344.0000                  139.37\n",
              "237             8979     537643.000000     1573.0000                  139.27\n",
              "238             9385     405090.000000     1262.0000                  138.77\n",
              "239            38032     295053.000000     1933.0000                  142.20\n",
              "\n",
              "[240 rows x 4 columns]"
            ]
          },
          "metadata": {
            "tags": []
          },
          "execution_count": 5
        }
      ]
    },
    {
      "cell_type": "code",
      "metadata": {
        "colab": {
          "base_uri": "https://localhost:8080/"
        },
        "id": "7z_Q14LlpLPs",
        "outputId": "fc3d9f60-db34-41fc-fe10-265d2a18d4dd"
      },
      "source": [
        "# división general\n",
        "df2['Absolute magnitude(Mv)']/10"
      ],
      "execution_count": null,
      "outputs": [
        {
          "output_type": "execute_result",
          "data": {
            "text/plain": [
              "0      1.612\n",
              "1      1.660\n",
              "2      1.870\n",
              "3      1.665\n",
              "4      2.006\n",
              "       ...  \n",
              "235   -0.993\n",
              "236   -1.063\n",
              "237   -1.073\n",
              "238   -1.123\n",
              "239   -0.780\n",
              "Name: Absolute magnitude(Mv), Length: 240, dtype: float64"
            ]
          },
          "metadata": {
            "tags": []
          },
          "execution_count": 6
        }
      ]
    },
    {
      "cell_type": "code",
      "metadata": {
        "colab": {
          "base_uri": "https://localhost:8080/"
        },
        "id": "LpF1DjODpf0J",
        "outputId": "c899e3cd-82ed-4137-862c-224beafe13f4"
      },
      "source": [
        "# utilizar funciones de librerías\n",
        "np.cos(df2['Radius(R/Ro)'])"
      ],
      "execution_count": null,
      "outputs": [
        {
          "output_type": "execute_result",
          "data": {
            "text/plain": [
              "0      0.985585\n",
              "1      0.988135\n",
              "2      0.994803\n",
              "3      0.987227\n",
              "4      0.994700\n",
              "         ...   \n",
              "235    0.391968\n",
              "236    0.981088\n",
              "237   -0.990010\n",
              "238    0.992347\n",
              "239    0.145649\n",
              "Name: Radius(R/Ro), Length: 240, dtype: float64"
            ]
          },
          "metadata": {
            "tags": []
          },
          "execution_count": 7
        }
      ]
    },
    {
      "cell_type": "code",
      "metadata": {
        "colab": {
          "base_uri": "https://localhost:8080/"
        },
        "id": "8cMyXVGfpxvM",
        "outputId": "781829b2-0870-440a-a67e-103335703b32"
      },
      "source": [
        "# resta entre columnas\n",
        "df2['Radius(R/Ro)'] - df2['Luminosity(L/Lo)']"
      ],
      "execution_count": null,
      "outputs": [
        {
          "output_type": "execute_result",
          "data": {
            "text/plain": [
              "0           0.167600\n",
              "1           0.153700\n",
              "2           0.101700\n",
              "3           0.159800\n",
              "4           0.102862\n",
              "           ...      \n",
              "235   -373474.000000\n",
              "236   -832848.000000\n",
              "237   -536070.000000\n",
              "238   -403828.000000\n",
              "239   -293120.000000\n",
              "Length: 240, dtype: float64"
            ]
          },
          "metadata": {
            "tags": []
          },
          "execution_count": 8
        }
      ]
    },
    {
      "cell_type": "code",
      "metadata": {
        "colab": {
          "base_uri": "https://localhost:8080/"
        },
        "id": "NpXNbhH6qAAd",
        "outputId": "e4c9c0c9-b64f-42fa-80fa-d85ec68abb3d"
      },
      "source": [
        "# resta entre columnas con diferentes índices\n",
        "df2.iloc[::2]['Luminosity(L/Lo)'] - df2['Absolute magnitude(Mv)']"
      ],
      "execution_count": null,
      "outputs": [
        {
          "output_type": "execute_result",
          "data": {
            "text/plain": [
              "0         -16.117600\n",
              "1                NaN\n",
              "2         -18.699700\n",
              "3                NaN\n",
              "4         -20.059862\n",
              "           ...      \n",
              "235              NaN\n",
              "236    834052.630000\n",
              "237              NaN\n",
              "238    404951.230000\n",
              "239              NaN\n",
              "Length: 240, dtype: float64"
            ]
          },
          "metadata": {
            "tags": []
          },
          "execution_count": 9
        }
      ]
    },
    {
      "cell_type": "code",
      "metadata": {
        "colab": {
          "base_uri": "https://localhost:8080/"
        },
        "id": "h8OM-0VqqdXf",
        "outputId": "44c9907a-c3e1-427f-fa6e-5c111be9f4d9"
      },
      "source": [
        "# resta entre columnas con diferentes índices, rellenar vacíos con 10\n",
        "df2.iloc[::2]['Luminosity(L/Lo)'].sub(df2['Absolute magnitude(Mv)'],fill_value = 10)"
      ],
      "execution_count": null,
      "outputs": [
        {
          "output_type": "execute_result",
          "data": {
            "text/plain": [
              "0         -16.117600\n",
              "1          -6.600000\n",
              "2         -18.699700\n",
              "3          -6.650000\n",
              "4         -20.059862\n",
              "           ...      \n",
              "235        19.930000\n",
              "236    834052.630000\n",
              "237        20.730000\n",
              "238    404951.230000\n",
              "239        17.800000\n",
              "Length: 240, dtype: float64"
            ]
          },
          "metadata": {
            "tags": []
          },
          "execution_count": 10
        }
      ]
    },
    {
      "cell_type": "markdown",
      "metadata": {
        "id": "oYxZFLCbsrt3"
      },
      "source": [
        "**Operaciones complejas: Definir funciones:**"
      ]
    },
    {
      "cell_type": "markdown",
      "metadata": {
        "id": "dhniPOhow6dd"
      },
      "source": [
        "**Apply**"
      ]
    },
    {
      "cell_type": "code",
      "metadata": {
        "id": "iTYyFE2xr2Kg"
      },
      "source": [
        "# Ejemplo función 1\n",
        "def funcion(x):\n",
        "  if x > 16.5:\n",
        "    valor = 'Mayor que 16.5'\n",
        "  else:\n",
        "    valor = 'Menor que 16.5'\n",
        "  return valor"
      ],
      "execution_count": null,
      "outputs": []
    },
    {
      "cell_type": "code",
      "metadata": {
        "colab": {
          "base_uri": "https://localhost:8080/"
        },
        "id": "toLg1H-hwMoq",
        "outputId": "96dca0f5-7956-4af6-fceb-cefc5c36fc48"
      },
      "source": [
        "# Aplicar función 1\n",
        "df2['Absolute magnitude(Mv)'].apply(funcion)"
      ],
      "execution_count": null,
      "outputs": [
        {
          "output_type": "execute_result",
          "data": {
            "text/plain": [
              "0      Menor que 16.5\n",
              "1      Mayor que 16.5\n",
              "2      Mayor que 16.5\n",
              "3      Mayor que 16.5\n",
              "4      Mayor que 16.5\n",
              "            ...      \n",
              "235    Menor que 16.5\n",
              "236    Menor que 16.5\n",
              "237    Menor que 16.5\n",
              "238    Menor que 16.5\n",
              "239    Menor que 16.5\n",
              "Name: Absolute magnitude(Mv), Length: 240, dtype: object"
            ]
          },
          "metadata": {
            "tags": []
          },
          "execution_count": 12
        }
      ]
    },
    {
      "cell_type": "code",
      "metadata": {
        "id": "QkC9jgMIwjTr"
      },
      "source": [
        "# Ejemplo función 2\n",
        "def funcion2(x):\n",
        "  if x > 16.5:\n",
        "    valor = (x/2)*30\n",
        "  else:\n",
        "    valor = (x)*10\n",
        "  return valor"
      ],
      "execution_count": null,
      "outputs": []
    },
    {
      "cell_type": "code",
      "metadata": {
        "colab": {
          "base_uri": "https://localhost:8080/"
        },
        "id": "his4MOEFwxHo",
        "outputId": "ebe87732-3583-4d1d-eb5c-5d7036e3e50a"
      },
      "source": [
        "# Aplicar función 2\n",
        "df2['Absolute magnitude(Mv)'].apply(funcion2)"
      ],
      "execution_count": null,
      "outputs": [
        {
          "output_type": "execute_result",
          "data": {
            "text/plain": [
              "0      161.20\n",
              "1      249.00\n",
              "2      280.50\n",
              "3      249.75\n",
              "4      300.90\n",
              "        ...  \n",
              "235    -99.30\n",
              "236   -106.30\n",
              "237   -107.30\n",
              "238   -112.30\n",
              "239    -78.00\n",
              "Name: Absolute magnitude(Mv), Length: 240, dtype: float64"
            ]
          },
          "metadata": {
            "tags": []
          },
          "execution_count": 14
        }
      ]
    },
    {
      "cell_type": "code",
      "metadata": {
        "id": "VEdfoqm3xZoE"
      },
      "source": [
        "# Ejemplo función 3\n",
        "def funcion3(valor, h = 0,f= 0):\n",
        "  nuevo_valor = valor*h - f\n",
        "  return(nuevo_valor)"
      ],
      "execution_count": null,
      "outputs": []
    },
    {
      "cell_type": "code",
      "metadata": {
        "colab": {
          "base_uri": "https://localhost:8080/"
        },
        "id": "IvjkSSyiyFyH",
        "outputId": "73c7b560-58f0-4b3e-9e79-23036f13d60b"
      },
      "source": [
        "# Aplicar función 3 con valores por default\n",
        "df2['Absolute magnitude(Mv)'].apply(funcion3)"
      ],
      "execution_count": null,
      "outputs": [
        {
          "output_type": "execute_result",
          "data": {
            "text/plain": [
              "0      0.0\n",
              "1      0.0\n",
              "2      0.0\n",
              "3      0.0\n",
              "4      0.0\n",
              "      ... \n",
              "235   -0.0\n",
              "236   -0.0\n",
              "237   -0.0\n",
              "238   -0.0\n",
              "239   -0.0\n",
              "Name: Absolute magnitude(Mv), Length: 240, dtype: float64"
            ]
          },
          "metadata": {
            "tags": []
          },
          "execution_count": 16
        }
      ]
    },
    {
      "cell_type": "code",
      "metadata": {
        "colab": {
          "base_uri": "https://localhost:8080/"
        },
        "id": "nNE1eItbx7o1",
        "outputId": "6ee3d947-b850-4f52-d4d7-e47ffdb6f5e6"
      },
      "source": [
        "# Aplicar función 3 con valores por default\n",
        "df2['Absolute magnitude(Mv)'].apply(funcion3, h = 100, f = 1500)"
      ],
      "execution_count": null,
      "outputs": [
        {
          "output_type": "execute_result",
          "data": {
            "text/plain": [
              "0       112.0\n",
              "1       160.0\n",
              "2       370.0\n",
              "3       165.0\n",
              "4       506.0\n",
              "        ...  \n",
              "235   -2493.0\n",
              "236   -2563.0\n",
              "237   -2573.0\n",
              "238   -2623.0\n",
              "239   -2280.0\n",
              "Name: Absolute magnitude(Mv), Length: 240, dtype: float64"
            ]
          },
          "metadata": {
            "tags": []
          },
          "execution_count": 17
        }
      ]
    },
    {
      "cell_type": "code",
      "metadata": {
        "id": "RCpeuHWW6lrK"
      },
      "source": [
        "# Ejemplo función 4\n",
        "def funcion4(x):\n",
        "  if x > df['Absolute magnitude(Mv)'].mean():\n",
        "    valor = 1\n",
        "  else:\n",
        "    valor = 0\n",
        "  return valor"
      ],
      "execution_count": null,
      "outputs": []
    },
    {
      "cell_type": "code",
      "metadata": {
        "colab": {
          "base_uri": "https://localhost:8080/"
        },
        "id": "dOot-rpf62lq",
        "outputId": "7b34fe83-fc9f-4075-e569-944290fa381c"
      },
      "source": [
        "# Aplicar función 4\n",
        "df2['Absolute magnitude(Mv)'].apply(funcion4)"
      ],
      "execution_count": null,
      "outputs": [
        {
          "output_type": "execute_result",
          "data": {
            "text/plain": [
              "0      1\n",
              "1      1\n",
              "2      1\n",
              "3      1\n",
              "4      1\n",
              "      ..\n",
              "235    0\n",
              "236    0\n",
              "237    0\n",
              "238    0\n",
              "239    0\n",
              "Name: Absolute magnitude(Mv), Length: 240, dtype: int64"
            ]
          },
          "metadata": {
            "tags": []
          },
          "execution_count": 21
        }
      ]
    },
    {
      "cell_type": "code",
      "metadata": {
        "id": "dLowbCYf6Kjv"
      },
      "source": [
        "# Realizar una función utilizando múltiples columnas\n",
        "def funcion5(fila):\n",
        "  if fila['Absolute magnitude(Mv)'] > 4.382395833333335 and fila['Star color'] == 'White':\n",
        "    valor = 1\n",
        "  elif fila['Absolute magnitude(Mv)'] > 7 and fila['Star color'] == 'Red':\n",
        "    valor = 2\n",
        "  else:\n",
        "    valor = 3\n",
        "  return valor"
      ],
      "execution_count": null,
      "outputs": []
    },
    {
      "cell_type": "code",
      "metadata": {
        "colab": {
          "base_uri": "https://localhost:8080/"
        },
        "id": "kXCHcRKc7FC4",
        "outputId": "d3bbb37c-52a2-4ec8-c68b-ecbb1950557e"
      },
      "source": [
        "# Aplicar función sobre un dataframe\n",
        "df.apply(funcion5, axis = 1) # Se debe poner axis = 1"
      ],
      "execution_count": null,
      "outputs": [
        {
          "output_type": "execute_result",
          "data": {
            "text/plain": [
              "0      2\n",
              "1      2\n",
              "2      2\n",
              "3      2\n",
              "4      2\n",
              "      ..\n",
              "235    3\n",
              "236    3\n",
              "237    3\n",
              "238    3\n",
              "239    3\n",
              "Length: 240, dtype: int64"
            ]
          },
          "metadata": {
            "tags": []
          },
          "execution_count": 26
        }
      ]
    },
    {
      "cell_type": "markdown",
      "metadata": {
        "id": "NAymRX1tw2DA"
      },
      "source": [
        "**Lambda**"
      ]
    },
    {
      "cell_type": "code",
      "metadata": {
        "colab": {
          "base_uri": "https://localhost:8080/"
        },
        "id": "yv2a6ndSw0E9",
        "outputId": "43d4e952-8f63-4c66-af1f-ddfd41de7862"
      },
      "source": [
        "# Aplicar funciones sobre fila\n",
        "df2['Temperature (K)'].apply(lambda x: x-273.15) # Pasar de kelvin a celsius"
      ],
      "execution_count": null,
      "outputs": [
        {
          "output_type": "execute_result",
          "data": {
            "text/plain": [
              "0       2794.85\n",
              "1       2768.85\n",
              "2       2326.85\n",
              "3       2526.85\n",
              "4       1665.85\n",
              "         ...   \n",
              "235    38666.85\n",
              "236    30565.85\n",
              "237     8555.85\n",
              "238     8961.85\n",
              "239    37608.85\n",
              "Name: Temperature (K), Length: 240, dtype: float64"
            ]
          },
          "metadata": {
            "tags": []
          },
          "execution_count": 19
        }
      ]
    },
    {
      "cell_type": "code",
      "metadata": {
        "colab": {
          "base_uri": "https://localhost:8080/"
        },
        "id": "WYUPqEbeyxJ9",
        "outputId": "68aac21d-9949-43c7-d9bb-595f3a9c7804"
      },
      "source": [
        "# Aplicar condiciones sobre la fila\n",
        "df2['Temperature (K)'].apply(lambda x: \"mayor que la media\" if x > df2['Temperature (K)'].mean() else \"menor que la media\")"
      ],
      "execution_count": null,
      "outputs": [
        {
          "output_type": "execute_result",
          "data": {
            "text/plain": [
              "0      menor que la media\n",
              "1      menor que la media\n",
              "2      menor que la media\n",
              "3      menor que la media\n",
              "4      menor que la media\n",
              "              ...        \n",
              "235    mayor que la media\n",
              "236    mayor que la media\n",
              "237    menor que la media\n",
              "238    menor que la media\n",
              "239    mayor que la media\n",
              "Name: Temperature (K), Length: 240, dtype: object"
            ]
          },
          "metadata": {
            "tags": []
          },
          "execution_count": 20
        }
      ]
    },
    {
      "cell_type": "code",
      "metadata": {
        "id": "Zxit-i9ZzMUh",
        "colab": {
          "base_uri": "https://localhost:8080/"
        },
        "outputId": "c8c230d7-f8b2-4515-9c15-12f1f306ef5b"
      },
      "source": [
        "# Aplicar condiciones sobre diferentes las filas utilizando las columnas del DataFrame\n",
        "df2.apply(lambda x: x['Luminosity(L/Lo)']/x['Radius(R/Ro)'], axis = 1) # En este caso tengo que especificar axis = 1 para que tome la columna de cada fila"
      ],
      "execution_count": null,
      "outputs": [
        {
          "output_type": "execute_result",
          "data": {
            "text/plain": [
              "0        0.014118\n",
              "1        0.003243\n",
              "2        0.002941\n",
              "3        0.001250\n",
              "4        0.001340\n",
              "          ...    \n",
              "235    276.423304\n",
              "236    698.527638\n",
              "237    377.718201\n",
              "238    364.154676\n",
              "239    165.397084\n",
              "Length: 240, dtype: float64"
            ]
          },
          "metadata": {
            "tags": []
          },
          "execution_count": 21
        }
      ]
    },
    {
      "cell_type": "code",
      "metadata": {
        "colab": {
          "base_uri": "https://localhost:8080/"
        },
        "id": "ULsR15apccrH",
        "outputId": "095b25a1-a537-4200-b380-195f8d1c409a"
      },
      "source": [
        "# Aplicar funciones sobre todas las filas de cada columnas\n",
        "df2.apply(lambda x: x.mean(), axis = 0) # En este caso saca el promedio de cada columna"
      ],
      "execution_count": null,
      "outputs": [
        {
          "output_type": "execute_result",
          "data": {
            "text/plain": [
              "Temperature (K)            10497.462500\n",
              "Luminosity(L/Lo)          107188.361635\n",
              "Radius(R/Ro)                 237.157781\n",
              "Absolute magnitude(Mv)         4.382396\n",
              "dtype: float64"
            ]
          },
          "metadata": {
            "tags": []
          },
          "execution_count": 22
        }
      ]
    },
    {
      "cell_type": "code",
      "metadata": {
        "colab": {
          "base_uri": "https://localhost:8080/"
        },
        "id": "0VfFpsrKdK-F",
        "outputId": "21423253-c83e-4b9f-87ee-c6a870562b6b"
      },
      "source": [
        "# Aplicar condiciones sobre todas las columnas de cada fila\n",
        "df2.apply(lambda x: x.mean(), axis = 1) # En este caso saca el promedio de cada fila"
      ],
      "execution_count": null,
      "outputs": [
        {
          "output_type": "execute_result",
          "data": {
            "text/plain": [
              "0         771.073100\n",
              "1         764.688675\n",
              "2         654.700575\n",
              "3         704.202550\n",
              "4         489.790785\n",
              "           ...      \n",
              "235    103779.017500\n",
              "236    216516.092500\n",
              "237    136933.567500\n",
              "238    103818.942500\n",
              "239     83640.050000\n",
              "Length: 240, dtype: float64"
            ]
          },
          "metadata": {
            "tags": []
          },
          "execution_count": 23
        }
      ]
    },
    {
      "cell_type": "code",
      "metadata": {
        "colab": {
          "base_uri": "https://localhost:8080/",
          "height": 142
        },
        "id": "XL-PW6oZeg6D",
        "outputId": "01d96c18-dc2c-427e-8c8a-860416c3d701"
      },
      "source": [
        "df2.head(3)"
      ],
      "execution_count": null,
      "outputs": [
        {
          "output_type": "execute_result",
          "data": {
            "text/html": [
              "<div>\n",
              "<style scoped>\n",
              "    .dataframe tbody tr th:only-of-type {\n",
              "        vertical-align: middle;\n",
              "    }\n",
              "\n",
              "    .dataframe tbody tr th {\n",
              "        vertical-align: top;\n",
              "    }\n",
              "\n",
              "    .dataframe thead th {\n",
              "        text-align: right;\n",
              "    }\n",
              "</style>\n",
              "<table border=\"1\" class=\"dataframe\">\n",
              "  <thead>\n",
              "    <tr style=\"text-align: right;\">\n",
              "      <th></th>\n",
              "      <th>Temperature (K)</th>\n",
              "      <th>Luminosity(L/Lo)</th>\n",
              "      <th>Radius(R/Ro)</th>\n",
              "      <th>Absolute magnitude(Mv)</th>\n",
              "    </tr>\n",
              "  </thead>\n",
              "  <tbody>\n",
              "    <tr>\n",
              "      <th>0</th>\n",
              "      <td>3068</td>\n",
              "      <td>0.0024</td>\n",
              "      <td>0.1700</td>\n",
              "      <td>16.12</td>\n",
              "    </tr>\n",
              "    <tr>\n",
              "      <th>1</th>\n",
              "      <td>3042</td>\n",
              "      <td>0.0005</td>\n",
              "      <td>0.1542</td>\n",
              "      <td>16.60</td>\n",
              "    </tr>\n",
              "    <tr>\n",
              "      <th>2</th>\n",
              "      <td>2600</td>\n",
              "      <td>0.0003</td>\n",
              "      <td>0.1020</td>\n",
              "      <td>18.70</td>\n",
              "    </tr>\n",
              "  </tbody>\n",
              "</table>\n",
              "</div>"
            ],
            "text/plain": [
              "   Temperature (K)  Luminosity(L/Lo)  Radius(R/Ro)  Absolute magnitude(Mv)\n",
              "0             3068            0.0024        0.1700                   16.12\n",
              "1             3042            0.0005        0.1542                   16.60\n",
              "2             2600            0.0003        0.1020                   18.70"
            ]
          },
          "metadata": {
            "tags": []
          },
          "execution_count": 24
        }
      ]
    },
    {
      "cell_type": "code",
      "metadata": {
        "colab": {
          "base_uri": "https://localhost:8080/",
          "height": 419
        },
        "id": "F3RHL4JHdktj",
        "outputId": "d686a9a2-338f-4144-ec74-45b00478442e"
      },
      "source": [
        "# Aplicar funciones sobre cada valor del DataFrame\n",
        "df2.apply(lambda x: x/2)"
      ],
      "execution_count": null,
      "outputs": [
        {
          "output_type": "execute_result",
          "data": {
            "text/html": [
              "<div>\n",
              "<style scoped>\n",
              "    .dataframe tbody tr th:only-of-type {\n",
              "        vertical-align: middle;\n",
              "    }\n",
              "\n",
              "    .dataframe tbody tr th {\n",
              "        vertical-align: top;\n",
              "    }\n",
              "\n",
              "    .dataframe thead th {\n",
              "        text-align: right;\n",
              "    }\n",
              "</style>\n",
              "<table border=\"1\" class=\"dataframe\">\n",
              "  <thead>\n",
              "    <tr style=\"text-align: right;\">\n",
              "      <th></th>\n",
              "      <th>Temperature (K)</th>\n",
              "      <th>Luminosity(L/Lo)</th>\n",
              "      <th>Radius(R/Ro)</th>\n",
              "      <th>Absolute magnitude(Mv)</th>\n",
              "    </tr>\n",
              "  </thead>\n",
              "  <tbody>\n",
              "    <tr>\n",
              "      <th>0</th>\n",
              "      <td>1534.0</td>\n",
              "      <td>0.001200</td>\n",
              "      <td>0.0850</td>\n",
              "      <td>8.060</td>\n",
              "    </tr>\n",
              "    <tr>\n",
              "      <th>1</th>\n",
              "      <td>1521.0</td>\n",
              "      <td>0.000250</td>\n",
              "      <td>0.0771</td>\n",
              "      <td>8.300</td>\n",
              "    </tr>\n",
              "    <tr>\n",
              "      <th>2</th>\n",
              "      <td>1300.0</td>\n",
              "      <td>0.000150</td>\n",
              "      <td>0.0510</td>\n",
              "      <td>9.350</td>\n",
              "    </tr>\n",
              "    <tr>\n",
              "      <th>3</th>\n",
              "      <td>1400.0</td>\n",
              "      <td>0.000100</td>\n",
              "      <td>0.0800</td>\n",
              "      <td>8.325</td>\n",
              "    </tr>\n",
              "    <tr>\n",
              "      <th>4</th>\n",
              "      <td>969.5</td>\n",
              "      <td>0.000069</td>\n",
              "      <td>0.0515</td>\n",
              "      <td>10.030</td>\n",
              "    </tr>\n",
              "    <tr>\n",
              "      <th>...</th>\n",
              "      <td>...</td>\n",
              "      <td>...</td>\n",
              "      <td>...</td>\n",
              "      <td>...</td>\n",
              "    </tr>\n",
              "    <tr>\n",
              "      <th>235</th>\n",
              "      <td>19470.0</td>\n",
              "      <td>187415.000000</td>\n",
              "      <td>678.0000</td>\n",
              "      <td>-4.965</td>\n",
              "    </tr>\n",
              "    <tr>\n",
              "      <th>236</th>\n",
              "      <td>15419.5</td>\n",
              "      <td>417021.000000</td>\n",
              "      <td>597.0000</td>\n",
              "      <td>-5.315</td>\n",
              "    </tr>\n",
              "    <tr>\n",
              "      <th>237</th>\n",
              "      <td>4414.5</td>\n",
              "      <td>268746.500000</td>\n",
              "      <td>711.5000</td>\n",
              "      <td>-5.365</td>\n",
              "    </tr>\n",
              "    <tr>\n",
              "      <th>238</th>\n",
              "      <td>4617.5</td>\n",
              "      <td>202470.000000</td>\n",
              "      <td>556.0000</td>\n",
              "      <td>-5.615</td>\n",
              "    </tr>\n",
              "    <tr>\n",
              "      <th>239</th>\n",
              "      <td>18941.0</td>\n",
              "      <td>147451.500000</td>\n",
              "      <td>891.5000</td>\n",
              "      <td>-3.900</td>\n",
              "    </tr>\n",
              "  </tbody>\n",
              "</table>\n",
              "<p>240 rows × 4 columns</p>\n",
              "</div>"
            ],
            "text/plain": [
              "     Temperature (K)  Luminosity(L/Lo)  Radius(R/Ro)  Absolute magnitude(Mv)\n",
              "0             1534.0          0.001200        0.0850                   8.060\n",
              "1             1521.0          0.000250        0.0771                   8.300\n",
              "2             1300.0          0.000150        0.0510                   9.350\n",
              "3             1400.0          0.000100        0.0800                   8.325\n",
              "4              969.5          0.000069        0.0515                  10.030\n",
              "..               ...               ...           ...                     ...\n",
              "235          19470.0     187415.000000      678.0000                  -4.965\n",
              "236          15419.5     417021.000000      597.0000                  -5.315\n",
              "237           4414.5     268746.500000      711.5000                  -5.365\n",
              "238           4617.5     202470.000000      556.0000                  -5.615\n",
              "239          18941.0     147451.500000      891.5000                  -3.900\n",
              "\n",
              "[240 rows x 4 columns]"
            ]
          },
          "metadata": {
            "tags": []
          },
          "execution_count": 25
        }
      ]
    },
    {
      "cell_type": "markdown",
      "metadata": {
        "id": "FOvDHYR5CN2E"
      },
      "source": [
        "**Map**"
      ]
    },
    {
      "cell_type": "markdown",
      "metadata": {
        "id": "fbp3LAGsJ2e1"
      },
      "source": [
        " Aplica una función a cada uno de los elementos de una lista"
      ]
    },
    {
      "cell_type": "code",
      "metadata": {
        "colab": {
          "base_uri": "https://localhost:8080/"
        },
        "id": "n_vyPYgVCQSp",
        "outputId": "9c9cf584-3d90-4ecc-ad76-9c9452559f1d"
      },
      "source": [
        "# Se aplica sobre una serie, no todo el DataFrame\n",
        "df.columns.map(str.lower) # convertir el nombre de las columnas en minúscula"
      ],
      "execution_count": null,
      "outputs": [
        {
          "output_type": "execute_result",
          "data": {
            "text/plain": [
              "Index(['temperature (k)', 'luminosity(l/lo)', 'radius(r/ro)',\n",
              "       'absolute magnitude(mv)', 'star type', 'star color', 'spectral class'],\n",
              "      dtype='object')"
            ]
          },
          "metadata": {
            "tags": []
          },
          "execution_count": 32
        }
      ]
    },
    {
      "cell_type": "code",
      "metadata": {
        "colab": {
          "base_uri": "https://localhost:8080/"
        },
        "id": "u13qsWT8H0q8",
        "outputId": "07d38541-c021-4a38-d3d4-4fd292c73502"
      },
      "source": [
        "# limitar decimales con lambda y map a una columna\n",
        "formato = lambda x: '%.0f' % x\n",
        "df['Temperature (K)'].map(formato) # si lo hago sobre un data frame me dice que no tiene formato map"
      ],
      "execution_count": null,
      "outputs": [
        {
          "output_type": "execute_result",
          "data": {
            "text/plain": [
              "0       3068\n",
              "1       3042\n",
              "2       2600\n",
              "3       2800\n",
              "4       1939\n",
              "       ...  \n",
              "235    38940\n",
              "236    30839\n",
              "237     8829\n",
              "238     9235\n",
              "239    37882\n",
              "Name: Temperature (K), Length: 240, dtype: object"
            ]
          },
          "metadata": {
            "tags": []
          },
          "execution_count": 43
        }
      ]
    },
    {
      "cell_type": "markdown",
      "metadata": {
        "id": "6craBeilI57m"
      },
      "source": [
        "**Apply Map**"
      ]
    },
    {
      "cell_type": "code",
      "metadata": {
        "colab": {
          "base_uri": "https://localhost:8080/",
          "height": 419
        },
        "id": "WsbUO6NWIhH0",
        "outputId": "9fa97d62-b7fb-45bf-bf50-5120cd6d4ee7"
      },
      "source": [
        "# limitar decimales con lambda y map a todo el DataFrame\n",
        "formato = lambda x: '%.0f' % x\n",
        "df2.applymap(formato) "
      ],
      "execution_count": null,
      "outputs": [
        {
          "output_type": "execute_result",
          "data": {
            "text/html": [
              "<div>\n",
              "<style scoped>\n",
              "    .dataframe tbody tr th:only-of-type {\n",
              "        vertical-align: middle;\n",
              "    }\n",
              "\n",
              "    .dataframe tbody tr th {\n",
              "        vertical-align: top;\n",
              "    }\n",
              "\n",
              "    .dataframe thead th {\n",
              "        text-align: right;\n",
              "    }\n",
              "</style>\n",
              "<table border=\"1\" class=\"dataframe\">\n",
              "  <thead>\n",
              "    <tr style=\"text-align: right;\">\n",
              "      <th></th>\n",
              "      <th>Temperature (K)</th>\n",
              "      <th>Luminosity(L/Lo)</th>\n",
              "      <th>Radius(R/Ro)</th>\n",
              "      <th>Absolute magnitude(Mv)</th>\n",
              "    </tr>\n",
              "  </thead>\n",
              "  <tbody>\n",
              "    <tr>\n",
              "      <th>0</th>\n",
              "      <td>3068</td>\n",
              "      <td>0</td>\n",
              "      <td>0</td>\n",
              "      <td>16</td>\n",
              "    </tr>\n",
              "    <tr>\n",
              "      <th>1</th>\n",
              "      <td>3042</td>\n",
              "      <td>0</td>\n",
              "      <td>0</td>\n",
              "      <td>17</td>\n",
              "    </tr>\n",
              "    <tr>\n",
              "      <th>2</th>\n",
              "      <td>2600</td>\n",
              "      <td>0</td>\n",
              "      <td>0</td>\n",
              "      <td>19</td>\n",
              "    </tr>\n",
              "    <tr>\n",
              "      <th>3</th>\n",
              "      <td>2800</td>\n",
              "      <td>0</td>\n",
              "      <td>0</td>\n",
              "      <td>17</td>\n",
              "    </tr>\n",
              "    <tr>\n",
              "      <th>4</th>\n",
              "      <td>1939</td>\n",
              "      <td>0</td>\n",
              "      <td>0</td>\n",
              "      <td>20</td>\n",
              "    </tr>\n",
              "    <tr>\n",
              "      <th>...</th>\n",
              "      <td>...</td>\n",
              "      <td>...</td>\n",
              "      <td>...</td>\n",
              "      <td>...</td>\n",
              "    </tr>\n",
              "    <tr>\n",
              "      <th>235</th>\n",
              "      <td>38940</td>\n",
              "      <td>374830</td>\n",
              "      <td>1356</td>\n",
              "      <td>-10</td>\n",
              "    </tr>\n",
              "    <tr>\n",
              "      <th>236</th>\n",
              "      <td>30839</td>\n",
              "      <td>834042</td>\n",
              "      <td>1194</td>\n",
              "      <td>-11</td>\n",
              "    </tr>\n",
              "    <tr>\n",
              "      <th>237</th>\n",
              "      <td>8829</td>\n",
              "      <td>537493</td>\n",
              "      <td>1423</td>\n",
              "      <td>-11</td>\n",
              "    </tr>\n",
              "    <tr>\n",
              "      <th>238</th>\n",
              "      <td>9235</td>\n",
              "      <td>404940</td>\n",
              "      <td>1112</td>\n",
              "      <td>-11</td>\n",
              "    </tr>\n",
              "    <tr>\n",
              "      <th>239</th>\n",
              "      <td>37882</td>\n",
              "      <td>294903</td>\n",
              "      <td>1783</td>\n",
              "      <td>-8</td>\n",
              "    </tr>\n",
              "  </tbody>\n",
              "</table>\n",
              "<p>240 rows × 4 columns</p>\n",
              "</div>"
            ],
            "text/plain": [
              "    Temperature (K) Luminosity(L/Lo) Radius(R/Ro) Absolute magnitude(Mv)\n",
              "0              3068                0            0                     16\n",
              "1              3042                0            0                     17\n",
              "2              2600                0            0                     19\n",
              "3              2800                0            0                     17\n",
              "4              1939                0            0                     20\n",
              "..              ...              ...          ...                    ...\n",
              "235           38940           374830         1356                    -10\n",
              "236           30839           834042         1194                    -11\n",
              "237            8829           537493         1423                    -11\n",
              "238            9235           404940         1112                    -11\n",
              "239           37882           294903         1783                     -8\n",
              "\n",
              "[240 rows x 4 columns]"
            ]
          },
          "metadata": {
            "tags": []
          },
          "execution_count": 46
        }
      ]
    }
  ]
}